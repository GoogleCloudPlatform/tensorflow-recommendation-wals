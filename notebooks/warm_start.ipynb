{
 "cells": [
  {
   "cell_type": "code",
   "execution_count": 1,
   "metadata": {},
   "outputs": [],
   "source": [
    "import numpy as np\n",
    "import os"
   ]
  },
  {
   "cell_type": "code",
   "execution_count": 9,
   "metadata": {},
   "outputs": [],
   "source": [
    "local_model_path = '../wals_ml_engine/jobs/wals_ml_local_20180521_162349'\n",
    "ROW_MODEL_FILE = 'model/row.npy'\n",
    "COL_MODEL_FILE = 'model/col.npy'\n",
    "USER_MODEL_FILE = 'model/user.npy'\n",
    "ITEM_MODEL_FILE = 'model/item.npy'\n",
    "RATINGS_FILE = 'model/ratings.npy'"
   ]
  },
  {
   "cell_type": "code",
   "execution_count": 225,
   "metadata": {},
   "outputs": [],
   "source": [
    "user_factor = np.load(os.path.join(local_model_path, ROW_MODEL_FILE))\n",
    "item_factor = np.load(os.path.join(local_model_path, COL_MODEL_FILE))\n",
    "user_map = np.load(os.path.join(local_model_path, USER_MODEL_FILE))\n",
    "item_map = np.load(os.path.join(local_model_path, ITEM_MODEL_FILE))\n",
    "ratings = np.load(os.path.join(local_model_path, RATINGS_FILE))"
   ]
  },
  {
   "cell_type": "code",
   "execution_count": 226,
   "metadata": {},
   "outputs": [
    {
     "data": {
      "text/plain": [
       "array([      34348347166136,      124168996164483,      133046654287433,\n",
       "       ..., 18313412406127452240, 18427461270502861788,\n",
       "       18445572799162209077], dtype=uint64)"
      ]
     },
     "execution_count": 226,
     "metadata": {},
     "output_type": "execute_result"
    }
   ],
   "source": [
    "user_map"
   ]
  },
  {
   "cell_type": "code",
   "execution_count": 227,
   "metadata": {},
   "outputs": [
    {
     "data": {
      "text/plain": [
       "array([   709531,    709733,    709763, ..., 299987103, 299992213,\n",
       "       299996869])"
      ]
     },
     "execution_count": 227,
     "metadata": {},
     "output_type": "execute_result"
    }
   ],
   "source": [
    "item_map"
   ]
  },
  {
   "cell_type": "code",
   "execution_count": 13,
   "metadata": {},
   "outputs": [],
   "source": [
    "input_file = \"../data/recommendation_events_new.csv\""
   ]
  },
  {
   "cell_type": "code",
   "execution_count": 15,
   "metadata": {},
   "outputs": [],
   "source": [
    "new_events = []\n",
    "mapped_events = []\n",
    "new_users = []\n",
    "new_items = []\n",
    "with open(input_file) as f:\n",
    "    next(f) #skip header\n",
    "    for line in f:\n",
    "      client_id, article_id, view_time = line.split(\",\")\n",
    "      client_id = int(client_id)\n",
    "      article_id = int(article_id)\n",
    "      view_time = int(view_time)\n",
    "\n",
    "      user_ix = np.searchsorted(user_map, client_id)\n",
    "      item_ix = np.searchsorted(item_map, article_id)\n",
    "\n",
    "      new_item_or_user = False\n",
    "      if user_map[user_ix] != client_id:\n",
    "        new_users.append(client_id)\n",
    "        new_item_or_user = True\n",
    "      if item_map[item_ix] != article_id:\n",
    "        new_items.append(article_id)\n",
    "        new_item_or_user = True\n",
    "\n",
    "      if new_item_or_user:\n",
    "        new_events.append((client_id, article_id, view_time))\n",
    "      else:\n",
    "        mapped_events.append((user_ix, item_ix, view_time))"
   ]
  },
  {
   "cell_type": "code",
   "execution_count": 313,
   "metadata": {},
   "outputs": [],
   "source": [
    "all_users = np.concatenate((user_map, new_users))\n",
    "sorted_user_ix = np.argsort(all_users)\n",
    "all_user_factor = np.vstack((user_factor, np.zeros((len(new_users), user_factor.shape[1]))))\n",
    "sorted_factors = all_user_factor[sorted_user_ix]\n",
    "sorted_users = all_users[sorted_user_ix]"
   ]
  },
  {
   "cell_type": "code",
   "execution_count": 314,
   "metadata": {},
   "outputs": [
    {
     "data": {
      "text/plain": [
       "array([3.43483472e+13, 1.24168996e+14, 1.33046654e+14, ...,\n",
       "       1.59911602e+18, 3.65656032e+18, 4.37725365e+18])"
      ]
     },
     "execution_count": 314,
     "metadata": {},
     "output_type": "execute_result"
    }
   ],
   "source": [
    "all_users"
   ]
  },
  {
   "cell_type": "code",
   "execution_count": 317,
   "metadata": {},
   "outputs": [
    {
     "data": {
      "text/plain": [
       "array([75982, 75983, 75984, 75985, 75986, 75987, 75988, 75989, 75990,\n",
       "       77017, 75991, 75992, 75993, 75994, 75995, 77308, 75996, 75997,\n",
       "       75998, 75999, 76000, 76001, 76002, 76003, 76004, 76005, 76006,\n",
       "       76007, 76008, 76009, 76010, 76011, 76012, 76013, 76014, 76015,\n",
       "       76016, 76017, 76018, 76019, 76020, 76021, 76022, 76023, 76024,\n",
       "       76025, 76026, 76027, 76028])"
      ]
     },
     "execution_count": 317,
     "metadata": {},
     "output_type": "execute_result"
    }
   ],
   "source": [
    "sorted_user_ix[-50:-1]"
   ]
  },
  {
   "cell_type": "code",
   "execution_count": 319,
   "metadata": {},
   "outputs": [
    {
     "data": {
      "text/plain": [
       "(76030,)"
      ]
     },
     "execution_count": 319,
     "metadata": {},
     "output_type": "execute_result"
    }
   ],
   "source": [
    "user_map.shape"
   ]
  },
  {
   "cell_type": "code",
   "execution_count": 321,
   "metadata": {},
   "outputs": [
    {
     "data": {
      "text/plain": [
       "34348347166136.0"
      ]
     },
     "execution_count": 321,
     "metadata": {},
     "output_type": "execute_result"
    }
   ],
   "source": [
    "sorted_users[0]"
   ]
  },
  {
   "cell_type": "code",
   "execution_count": 322,
   "metadata": {},
   "outputs": [
    {
     "data": {
      "text/plain": [
       "34348347166136"
      ]
     },
     "execution_count": 322,
     "metadata": {},
     "output_type": "execute_result"
    }
   ],
   "source": [
    "user_map[0]"
   ]
  },
  {
   "cell_type": "code",
   "execution_count": 323,
   "metadata": {},
   "outputs": [
    {
     "data": {
      "text/plain": [
       "array([  7.49288368,  17.37949562,   4.49660206,  32.02349091,\n",
       "       -17.68611908,  16.13059425,  -4.87479639, -14.35096741,\n",
       "         9.40712261,  27.41927147,   5.56567717, -18.82164192,\n",
       "        -1.48984659, -16.07185364,  22.93484497,  -7.18919563,\n",
       "       -23.04388428, -24.3555088 ,   2.19006371,  -6.28728008,\n",
       "         7.38154554,   9.39912128,  -8.44683933,  10.64288902,\n",
       "       -20.13733864,  -3.8636899 ,  -1.27410769,   7.1074729 ,\n",
       "        16.78817749,   8.38585949])"
      ]
     },
     "execution_count": 323,
     "metadata": {},
     "output_type": "execute_result"
    }
   ],
   "source": [
    "all_user_factor[0]"
   ]
  },
  {
   "cell_type": "code",
   "execution_count": 326,
   "metadata": {},
   "outputs": [
    {
     "data": {
      "text/plain": [
       "array([  7.4928837,  17.379496 ,   4.496602 ,  32.02349  , -17.68612  ,\n",
       "        16.130594 ,  -4.8747964, -14.350967 ,   9.407123 ,  27.419271 ,\n",
       "         5.565677 , -18.821642 ,  -1.4898466, -16.071854 ,  22.934845 ,\n",
       "        -7.1891956, -23.043884 , -24.355509 ,   2.1900637,  -6.28728  ,\n",
       "         7.3815455,   9.399121 ,  -8.446839 ,  10.642889 , -20.137339 ,\n",
       "        -3.86369  ,  -1.2741077,   7.107473 ,  16.788177 ,   8.3858595],\n",
       "      dtype=float32)"
      ]
     },
     "execution_count": 326,
     "metadata": {},
     "output_type": "execute_result"
    }
   ],
   "source": [
    "user_factor[0]"
   ]
  },
  {
   "cell_type": "code",
   "execution_count": 327,
   "metadata": {},
   "outputs": [
    {
     "data": {
      "text/plain": [
       "array([  7.49288368,  17.37949562,   4.49660206,  32.02349091,\n",
       "       -17.68611908,  16.13059425,  -4.87479639, -14.35096741,\n",
       "         9.40712261,  27.41927147,   5.56567717, -18.82164192,\n",
       "        -1.48984659, -16.07185364,  22.93484497,  -7.18919563,\n",
       "       -23.04388428, -24.3555088 ,   2.19006371,  -6.28728008,\n",
       "         7.38154554,   9.39912128,  -8.44683933,  10.64288902,\n",
       "       -20.13733864,  -3.8636899 ,  -1.27410769,   7.1074729 ,\n",
       "        16.78817749,   8.38585949])"
      ]
     },
     "execution_count": 327,
     "metadata": {},
     "output_type": "execute_result"
    }
   ],
   "source": [
    "sorted_factors[0]"
   ]
  },
  {
   "cell_type": "code",
   "execution_count": null,
   "metadata": {},
   "outputs": [],
   "source": []
  }
 ],
 "metadata": {
  "kernelspec": {
   "display_name": "Python 2",
   "language": "python",
   "name": "python2"
  },
  "language_info": {
   "codemirror_mode": {
    "name": "ipython",
    "version": 2
   },
   "file_extension": ".py",
   "mimetype": "text/x-python",
   "name": "python",
   "nbconvert_exporter": "python",
   "pygments_lexer": "ipython2",
   "version": "2.7.13"
  }
 },
 "nbformat": 4,
 "nbformat_minor": 2
}
